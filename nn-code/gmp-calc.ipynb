{
 "cells": [
  {
   "cell_type": "code",
   "execution_count": null,
   "id": "c4d2ba14-e13a-4cb8-b986-dcd026b677cc",
   "metadata": {},
   "outputs": [],
   "source": [
    "from ase.io import read, write\n",
    "from ase.units import Bohr, Angstrom\n",
    "from GMPFeaturizer import GMPFeaturizer, ASEAtomsConverter, PymatgenStructureConverter\n",
    "import numpy as np\n",
    "\n",
    "# Need to edit paths.\n",
    "# .gpsp files will be uploaded to github under folder gmp_pseudos\n",
    "path_to_psp = '<your local path>/gmp_pseudos/<specify which psps>.gpsp'\n",
    "traj_list = os.listdir('/storage/ice-shared/vip-vvi/nnff-data/dft/')\n",
    "trajs = [read(_traj) for _traj in traj_list]\n",
    "derivatives = True\n",
    "sigmas = np.array([0.75, 0.92307692,  1.09615385,  1.26923077,  1.44230769,  1.61538462,  1.78846154,  1.96153846,  2.13461538,  2.30769231,  2.48076923,  2.65384615,\n",
    "                   2.82692308,  3.0])*(Bohr/Angstrom)\n",
    "max_order = 3\n",
    "calc_gmp_desc(trajs, sigmas, max_order, path_to_psp, derivatives=False)"
   ]
  },
  {
   "cell_type": "code",
   "execution_count": null,
   "id": "8e0ee68c-b975-4d4d-a81d-969ebcedb735",
   "metadata": {},
   "outputs": [],
   "source": [
    "def calc_gmp_desc(images:list, sigmas, max_order, path_to_psp, square=True, derivatives=True, cores=1):\n",
    "    converter = ASEAtomsConverter()\n",
    "    # converter = PymatgenStructureConverter()\n",
    "\n",
    "    # setup featurizer - note, forced internally to only consider solid harmonics.\n",
    "    GMPs = {\n",
    "        \"GMPs\": {   \n",
    "            \"orders\": [int(x) for x in range(max_order+1)], \n",
    "            \"sigmas\": sigmas.tolist(),   \n",
    "        },\n",
    "        # path to the pseudo potential file\n",
    "        \"psp_path\": path_to_psp, \n",
    "        # basically the accuracy of the resulting features\n",
    "        \"overlap_threshold\": 1e-16, \n",
    "        # whether the features are squared, \n",
    "        #no need to change if you are not considering the feature derivatives\n",
    "        \"square\": square, \n",
    "    }\n",
    "    featurizer = GMPFeaturizer(GMPs=GMPs, calc_derivatives=derivatives, verbose=True)\n",
    "    # calculate features\n",
    "    result = featurizer.prepare_features(images, cores=cores, converter=converter)\n",
    "\n",
    "    # access data\n",
    "    #features = [jnp.array(entry[\"features\"]) for entry in result]\n",
    "    #features = jnp.stack(features)\n",
    "    features = [np.array(entry[\"features\"]) for entry in result]\n",
    "    features = np.stack(features)\n",
    "    if derivatives:\n",
    "        feature_primes = [entry[\"feature_primes\"] for entry in result]\n",
    "        feature_primes = np.stack(feature_primes)\n",
    "    else:\n",
    "        feature_primes = None\n",
    "    return features, feature_primes"
   ]
  }
 ],
 "metadata": {
  "kernelspec": {
   "display_name": "gen_ml",
   "language": "python",
   "name": "gen_ml"
  },
  "language_info": {
   "codemirror_mode": {
    "name": "ipython",
    "version": 3
   },
   "file_extension": ".py",
   "mimetype": "text/x-python",
   "name": "python",
   "nbconvert_exporter": "python",
   "pygments_lexer": "ipython3",
   "version": "3.9.16"
  }
 },
 "nbformat": 4,
 "nbformat_minor": 5
}
